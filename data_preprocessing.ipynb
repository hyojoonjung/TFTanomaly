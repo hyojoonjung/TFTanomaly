{
 "cells": [
  {
   "cell_type": "code",
   "execution_count": 78,
   "metadata": {},
   "outputs": [],
   "source": [
    "import pandas as pd\n",
    "import numpy as np\n",
    "df = pd.read_csv('/home/hjjung/ailab/anomaly_TFT/templates/GHL/debug_train.csv', index_col=False)"
   ]
  },
  {
   "cell_type": "code",
   "execution_count": 79,
   "metadata": {},
   "outputs": [
    {
     "data": {
      "text/html": [
       "<div>\n",
       "<style scoped>\n",
       "    .dataframe tbody tr th:only-of-type {\n",
       "        vertical-align: middle;\n",
       "    }\n",
       "\n",
       "    .dataframe tbody tr th {\n",
       "        vertical-align: top;\n",
       "    }\n",
       "\n",
       "    .dataframe thead th {\n",
       "        text-align: right;\n",
       "    }\n",
       "</style>\n",
       "<table border=\"1\" class=\"dataframe\">\n",
       "  <thead>\n",
       "    <tr style=\"text-align: right;\">\n",
       "      <th></th>\n",
       "      <th>Time</th>\n",
       "      <th>RT_level_ini</th>\n",
       "      <th>RT_temperature.T</th>\n",
       "      <th>HT_temperature.T</th>\n",
       "      <th>RT_level</th>\n",
       "      <th>out_valve_act</th>\n",
       "      <th>dT_rand</th>\n",
       "      <th>inv_valve_act</th>\n",
       "      <th>limiter.y</th>\n",
       "      <th>inj_valve_act</th>\n",
       "      <th>Relaxing.active</th>\n",
       "      <th>boundary.m_flow_in</th>\n",
       "      <th>dir_valve_act</th>\n",
       "      <th>dt_rand</th>\n",
       "      <th>C_level</th>\n",
       "      <th>C_temperature.T</th>\n",
       "      <th>heater_act</th>\n",
       "      <th>HT_level</th>\n",
       "      <th>limiter1.y</th>\n",
       "      <th>dL_rand</th>\n",
       "    </tr>\n",
       "  </thead>\n",
       "  <tbody>\n",
       "    <tr>\n",
       "      <th>0</th>\n",
       "      <td>0.0</td>\n",
       "      <td>0.0</td>\n",
       "      <td>283.149994</td>\n",
       "      <td>283.149994</td>\n",
       "      <td>0.5</td>\n",
       "      <td>0.0</td>\n",
       "      <td>0.0</td>\n",
       "      <td>0.0</td>\n",
       "      <td>283.0</td>\n",
       "      <td>0.0</td>\n",
       "      <td>0.0</td>\n",
       "      <td>0.0</td>\n",
       "      <td>0.0</td>\n",
       "      <td>0.0</td>\n",
       "      <td>0.01</td>\n",
       "      <td>273.149994</td>\n",
       "      <td>0.0</td>\n",
       "      <td>0.1</td>\n",
       "      <td>100.0</td>\n",
       "      <td>0.0</td>\n",
       "    </tr>\n",
       "    <tr>\n",
       "      <th>1</th>\n",
       "      <td>1.0</td>\n",
       "      <td>0.0</td>\n",
       "      <td>283.149994</td>\n",
       "      <td>283.163330</td>\n",
       "      <td>0.5</td>\n",
       "      <td>0.0</td>\n",
       "      <td>0.0</td>\n",
       "      <td>0.0</td>\n",
       "      <td>283.0</td>\n",
       "      <td>0.0</td>\n",
       "      <td>0.0</td>\n",
       "      <td>0.0</td>\n",
       "      <td>0.0</td>\n",
       "      <td>0.0</td>\n",
       "      <td>0.01</td>\n",
       "      <td>273.149994</td>\n",
       "      <td>0.0</td>\n",
       "      <td>0.1</td>\n",
       "      <td>100.0</td>\n",
       "      <td>0.0</td>\n",
       "    </tr>\n",
       "    <tr>\n",
       "      <th>2</th>\n",
       "      <td>2.0</td>\n",
       "      <td>0.0</td>\n",
       "      <td>283.149994</td>\n",
       "      <td>283.176666</td>\n",
       "      <td>0.5</td>\n",
       "      <td>0.0</td>\n",
       "      <td>0.0</td>\n",
       "      <td>0.0</td>\n",
       "      <td>283.0</td>\n",
       "      <td>0.0</td>\n",
       "      <td>0.0</td>\n",
       "      <td>0.0</td>\n",
       "      <td>0.0</td>\n",
       "      <td>0.0</td>\n",
       "      <td>0.01</td>\n",
       "      <td>273.149994</td>\n",
       "      <td>0.0</td>\n",
       "      <td>0.1</td>\n",
       "      <td>100.0</td>\n",
       "      <td>0.0</td>\n",
       "    </tr>\n",
       "    <tr>\n",
       "      <th>3</th>\n",
       "      <td>3.0</td>\n",
       "      <td>0.0</td>\n",
       "      <td>283.149994</td>\n",
       "      <td>283.189972</td>\n",
       "      <td>0.5</td>\n",
       "      <td>0.0</td>\n",
       "      <td>0.0</td>\n",
       "      <td>0.0</td>\n",
       "      <td>283.0</td>\n",
       "      <td>0.0</td>\n",
       "      <td>0.0</td>\n",
       "      <td>0.0</td>\n",
       "      <td>0.0</td>\n",
       "      <td>0.0</td>\n",
       "      <td>0.01</td>\n",
       "      <td>273.149994</td>\n",
       "      <td>0.0</td>\n",
       "      <td>0.1</td>\n",
       "      <td>100.0</td>\n",
       "      <td>0.0</td>\n",
       "    </tr>\n",
       "    <tr>\n",
       "      <th>4</th>\n",
       "      <td>4.0</td>\n",
       "      <td>0.0</td>\n",
       "      <td>283.149994</td>\n",
       "      <td>283.203247</td>\n",
       "      <td>0.5</td>\n",
       "      <td>0.0</td>\n",
       "      <td>0.0</td>\n",
       "      <td>0.0</td>\n",
       "      <td>283.0</td>\n",
       "      <td>0.0</td>\n",
       "      <td>0.0</td>\n",
       "      <td>0.0</td>\n",
       "      <td>0.0</td>\n",
       "      <td>0.0</td>\n",
       "      <td>0.01</td>\n",
       "      <td>273.149994</td>\n",
       "      <td>0.0</td>\n",
       "      <td>0.1</td>\n",
       "      <td>100.0</td>\n",
       "      <td>0.0</td>\n",
       "    </tr>\n",
       "  </tbody>\n",
       "</table>\n",
       "</div>"
      ],
      "text/plain": [
       "   Time  RT_level_ini  RT_temperature.T  HT_temperature.T  RT_level  \\\n",
       "0   0.0           0.0        283.149994        283.149994       0.5   \n",
       "1   1.0           0.0        283.149994        283.163330       0.5   \n",
       "2   2.0           0.0        283.149994        283.176666       0.5   \n",
       "3   3.0           0.0        283.149994        283.189972       0.5   \n",
       "4   4.0           0.0        283.149994        283.203247       0.5   \n",
       "\n",
       "   out_valve_act  dT_rand  inv_valve_act  limiter.y  inj_valve_act  \\\n",
       "0            0.0      0.0            0.0      283.0            0.0   \n",
       "1            0.0      0.0            0.0      283.0            0.0   \n",
       "2            0.0      0.0            0.0      283.0            0.0   \n",
       "3            0.0      0.0            0.0      283.0            0.0   \n",
       "4            0.0      0.0            0.0      283.0            0.0   \n",
       "\n",
       "   Relaxing.active  boundary.m_flow_in  dir_valve_act  dt_rand  C_level  \\\n",
       "0              0.0                 0.0            0.0      0.0     0.01   \n",
       "1              0.0                 0.0            0.0      0.0     0.01   \n",
       "2              0.0                 0.0            0.0      0.0     0.01   \n",
       "3              0.0                 0.0            0.0      0.0     0.01   \n",
       "4              0.0                 0.0            0.0      0.0     0.01   \n",
       "\n",
       "   C_temperature.T  heater_act  HT_level  limiter1.y  dL_rand  \n",
       "0       273.149994         0.0       0.1       100.0      0.0  \n",
       "1       273.149994         0.0       0.1       100.0      0.0  \n",
       "2       273.149994         0.0       0.1       100.0      0.0  \n",
       "3       273.149994         0.0       0.1       100.0      0.0  \n",
       "4       273.149994         0.0       0.1       100.0      0.0  "
      ]
     },
     "execution_count": 79,
     "metadata": {},
     "output_type": "execute_result"
    }
   ],
   "source": [
    "# df.reset_index(drop=True)\n",
    "df.head()"
   ]
  },
  {
   "cell_type": "code",
   "execution_count": 34,
   "metadata": {},
   "outputs": [
    {
     "name": "stdout",
     "output_type": "stream",
     "text": [
      "(100, 20)\n"
     ]
    },
    {
     "name": "stderr",
     "output_type": "stream",
     "text": [
      "/tmp/ipykernel_2097232/465736950.py:23: FutureWarning: Passing a set as an indexer is deprecated and will raise in a future version. Use a list instead.\n",
      "  data = data[set(x.name for x in features)]\n"
     ]
    }
   ],
   "source": [
    "from core.configuration import CONFIGS\n",
    "import enum\n",
    "\n",
    "config = CONFIGS['GHL']()\n",
    "\n",
    "data = df.copy()\n",
    "print(data.shape)\n",
    "features = config.features\n",
    "class DataTypes(enum.IntEnum):\n",
    "    \"\"\"Defines numerical types of each culumn.\"\"\"\n",
    "    CONTINUOUS = 0\n",
    "    CATEGORICAL = 1\n",
    "    DATE = 2\n",
    "    STR = 3\n",
    "DTYPE_MAP = {\n",
    "    DataTypes.CONTINUOUS : np.float64,\n",
    "    DataTypes.CATEGORICAL : np.int64,\n",
    "    DataTypes.DATE : 'datetime64[ns]',\n",
    "    DataTypes.STR : str\n",
    "}\n",
    "\n",
    "col_dtypes = {v.name:DTYPE_MAP[v.feature_embed_type] for v in features}\n",
    "data = data[set(x.name for x in features)]\n",
    "data = data.astype(col_dtypes)\n",
    "# print(col_dtypes)\n",
    "# data = data[['RT_level','RT_temperature.T','HT_level','HT_temperature.T','inj_valve_act','heater_act']]\n",
    "example_length = 35\n",
    "stride = 1"
   ]
  },
  {
   "cell_type": "code",
   "execution_count": 64,
   "metadata": {},
   "outputs": [
    {
     "name": "stdout",
     "output_type": "stream",
     "text": [
      "[[  0.           0.           0.5        283.1499939  283.1499939 ]\n",
      " [  0.           0.           0.5        283.1499939  283.16333008]\n",
      " [  0.           0.           0.5        283.1499939  283.17666626]]\n"
     ]
    }
   ],
   "source": [
    "print(data.values[0:3])"
   ]
  },
  {
   "cell_type": "code",
   "execution_count": 53,
   "metadata": {},
   "outputs": [],
   "source": [
    "def standard_scaler(data, mu_sigma_values):\n",
    "    data_scaled = data.copy()\n",
    "\n",
    "    if len(mu_sigma_values) == 0:\n",
    "        #data.shape[1] = num_column\n",
    "        for i in range(data.shape[1]):\n",
    "            values = data[:, i]\n",
    "            mean = np.mean(values)\n",
    "            std = np.std(values)\n",
    "            if std == 0:\n",
    "                std = 1\n",
    "            mu_sigma_values.append([mean, std])\n",
    "            print(mean)\n",
    "            print(std)\n",
    "            values_scaled = (values - mean) / std\n",
    "            data_scaled[:, i] = values_scaled\n",
    "    else:\n",
    "        for i in range(data.shape[1]):\n",
    "            values = data[:, i]\n",
    "\n",
    "            values_scaled = (values - mu_sigma_values[i][0]) / mu_sigma_values[i][1]\n",
    "            data_scaled[:, i] = values_scaled\n",
    "\n",
    "    return data_scaled, mu_sigma_values"
   ]
  },
  {
   "cell_type": "code",
   "execution_count": 54,
   "metadata": {},
   "outputs": [
    {
     "name": "stdout",
     "output_type": "stream",
     "text": [
      "0.0\n",
      "1\n",
      "0.0\n",
      "1\n",
      "0.5\n",
      "1\n",
      "283.14999389600007\n",
      "5.684341886080802e-14\n",
      "283.78245971676006\n",
      "0.3609050732018216\n"
     ]
    }
   ],
   "source": [
    "mu_sigma_values = []\n",
    "data_scaled, mu_sigma_values = standard_scaler(data.values, mu_sigma_values)"
   ]
  },
  {
   "cell_type": "code",
   "execution_count": 59,
   "metadata": {},
   "outputs": [
    {
     "name": "stdout",
     "output_type": "stream",
     "text": [
      "(100, 5)\n"
     ]
    }
   ],
   "source": [
    "print(data_scaled.shape)"
   ]
  },
  {
   "cell_type": "code",
   "execution_count": 66,
   "metadata": {},
   "outputs": [],
   "source": [
    "def stride_series(data, example_length, stride):\n",
    "    series = []\n",
    "    for i in range(0,len(data) - example_length, stride):\n",
    "        series.append(data[i: (i + example_length)])\n",
    "        # print(len(data[i: (i + example_length)]))\n",
    "    for i in range(len(series)):\n",
    "        if len(series[i]) != 35:\n",
    "            print(len(series[i]))\n",
    "    series = np.array(series)\n",
    "    \n",
    "    return series"
   ]
  },
  {
   "cell_type": "code",
   "execution_count": 67,
   "metadata": {},
   "outputs": [],
   "source": [
    "series = stride_series(data.values, example_length, stride)"
   ]
  },
  {
   "cell_type": "code",
   "execution_count": 69,
   "metadata": {},
   "outputs": [
    {
     "name": "stdout",
     "output_type": "stream",
     "text": [
      "[[[  0.           0.           0.5        283.1499939  283.1499939 ]\n",
      "  [  0.           0.           0.5        283.1499939  283.16333008]\n",
      "  [  0.           0.           0.5        283.1499939  283.17666626]\n",
      "  ...\n",
      "  [  0.           0.           0.5        283.1499939  283.56817627]\n",
      "  [  0.           0.           0.5        283.1499939  283.58096313]\n",
      "  [  0.           0.           0.5        283.1499939  283.59371948]]\n",
      "\n",
      " [[  0.           0.           0.5        283.1499939  283.16333008]\n",
      "  [  0.           0.           0.5        283.1499939  283.17666626]\n",
      "  [  0.           0.           0.5        283.1499939  283.18997192]\n",
      "  ...\n",
      "  [  0.           0.           0.5        283.1499939  283.58096313]\n",
      "  [  0.           0.           0.5        283.1499939  283.59371948]\n",
      "  [  0.           0.           0.5        283.1499939  283.60647583]]\n",
      "\n",
      " [[  0.           0.           0.5        283.1499939  283.17666626]\n",
      "  [  0.           0.           0.5        283.1499939  283.18997192]\n",
      "  [  0.           0.           0.5        283.1499939  283.20324707]\n",
      "  ...\n",
      "  [  0.           0.           0.5        283.1499939  283.59371948]\n",
      "  [  0.           0.           0.5        283.1499939  283.60647583]\n",
      "  [  0.           0.           0.5        283.1499939  283.61920166]]\n",
      "\n",
      " ...\n",
      "\n",
      " [[  0.           0.           0.5        283.1499939  283.94430542]\n",
      "  [  0.           0.           0.5        283.1499939  283.95657349]\n",
      "  [  0.           0.           0.5        283.1499939  283.96884155]\n",
      "  ...\n",
      "  [  0.           0.           0.5        283.1499939  284.32925415]\n",
      "  [  0.           0.           0.5        283.1499939  284.34103394]\n",
      "  [  0.           0.           0.5        283.1499939  284.3527832 ]]\n",
      "\n",
      " [[  0.           0.           0.5        283.1499939  283.95657349]\n",
      "  [  0.           0.           0.5        283.1499939  283.96884155]\n",
      "  [  0.           0.           0.5        283.1499939  283.98110962]\n",
      "  ...\n",
      "  [  0.           0.           0.5        283.1499939  284.34103394]\n",
      "  [  0.           0.           0.5        283.1499939  284.3527832 ]\n",
      "  [  0.           0.           0.5        283.1499939  284.36450195]]\n",
      "\n",
      " [[  0.           0.           0.5        283.1499939  283.96884155]\n",
      "  [  0.           0.           0.5        283.1499939  283.98110962]\n",
      "  [  0.           0.           0.5        283.1499939  283.99331665]\n",
      "  ...\n",
      "  [  0.           0.           0.5        283.1499939  284.3527832 ]\n",
      "  [  0.           0.           0.5        283.1499939  284.36450195]\n",
      "  [  0.           0.           0.5        283.1499939  284.3762207 ]]]\n"
     ]
    }
   ],
   "source": [
    "print(series)"
   ]
  }
 ],
 "metadata": {
  "interpreter": {
   "hash": "0f49525e30c8144c12637611bcce6dac1f8b09f286f02e5a5c895df8e2b3c737"
  },
  "kernelspec": {
   "display_name": "Python 3.8.13 ('pytorch')",
   "language": "python",
   "name": "python3"
  },
  "language_info": {
   "codemirror_mode": {
    "name": "ipython",
    "version": 3
   },
   "file_extension": ".py",
   "mimetype": "text/x-python",
   "name": "python",
   "nbconvert_exporter": "python",
   "pygments_lexer": "ipython3",
   "version": "3.8.13"
  },
  "orig_nbformat": 4
 },
 "nbformat": 4,
 "nbformat_minor": 2
}
